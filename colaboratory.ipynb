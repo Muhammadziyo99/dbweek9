{
  "cells": [
    {
      "cell_type": "markdown",
      "metadata": {
        "id": "view-in-github",
        "colab_type": "text"
      },
      "source": [
        "<a href=\"https://colab.research.google.com/gist/Muhammadziyo99/2efef5f30fc0130f9d1f4edb1e060d20/colaboratory.ipynb\" target=\"_parent\"><img src=\"https://colab.research.google.com/assets/colab-badge.svg\" alt=\"Open In Colab\"/></a>"
      ]
    },
    {
      "cell_type": "code",
      "source": [
        "r_set=my_conn.execute('''select name from sqlite_master where type = 'table' ''')\n",
        "for row in r_set:\n",
        "  print(row)"
      ],
      "metadata": {
        "colab": {
          "base_uri": "https://localhost:8080/"
        },
        "id": "RSy1s3BJiKU1",
        "outputId": "2b43e948-d2a2-4c1b-bb36-85f2c93790ec"
      },
      "execution_count": 20,
      "outputs": [
        {
          "output_type": "stream",
          "name": "stdout",
          "text": [
            "('category',)\n",
            "('subcategory',)\n",
            "('student',)\n"
          ]
        }
      ]
    },
    {
      "cell_type": "code",
      "source": [
        "r_set=my_conn.execute('''SELECT * FROM student''');\n",
        "for row in r_set:\n",
        "  print(row)"
      ],
      "metadata": {
        "colab": {
          "base_uri": "https://localhost:8080/"
        },
        "id": "vdANz_XBiLB1",
        "outputId": "9972f46f-e40d-43ec-f599-675ae64ca7fb"
      },
      "execution_count": 21,
      "outputs": [
        {
          "output_type": "stream",
          "name": "stdout",
          "text": [
            "(1, 'John Deo', 'Four', 75, 'female')\n",
            "(2, 'Max Ruin', 'Three', 85, 'male')\n",
            "(3, 'Arnold', 'Three', 55, 'male')\n",
            "(4, 'Krish Star', 'Four', 60, 'female')\n",
            "(5, 'John Mike', 'Four', 60, 'female')\n",
            "(6, 'Alex John', 'Four', 55, 'male')\n",
            "(7, 'My John Rob', 'Five', 78, 'male')\n",
            "(8, 'Asruid', 'Five', 85, 'male')\n",
            "(9, 'Tes Qry', 'Six', 78, 'male')\n",
            "(10, 'Big John', 'Four', 55, 'female')\n",
            "(11, 'Ronald', 'Six', 89, 'female')\n",
            "(12, 'Recky', 'Six', 94, 'female')\n",
            "(13, 'Kty', 'Seven', 88, 'female')\n",
            "(14, 'Bigy', 'Seven', 88, 'female')\n",
            "(15, 'Tade Row', 'Four', 88, 'male')\n",
            "(16, 'Gimmy', 'Four', 88, 'male')\n",
            "(17, 'Tumyu', 'Six', 54, 'male')\n",
            "(18, 'Honny', 'Five', 75, 'male')\n",
            "(19, 'Tinny', 'Nine', 18, 'male')\n",
            "(20, 'Jackly', 'Nine', 65, 'female')\n",
            "(21, 'Babby John', 'Four', 69, 'female')\n",
            "(22, 'Reggid', 'Seven', 55, 'female')\n",
            "(23, 'Herod', 'Eight', 79, 'male')\n",
            "(24, 'Tiddy Now', 'Seven', 78, 'male')\n",
            "(25, 'Giff Tow', 'Seven', 88, 'male')\n",
            "(26, 'Crelea', 'Seven', 79, 'male')\n",
            "(27, 'Big Nose', 'Three', 81, 'female')\n",
            "(28, 'Rojj Base', 'Seven', 86, 'female')\n",
            "(29, 'Tess Played', 'Seven', 55, 'male')\n",
            "(30, 'Reppy Red', 'Six', 79, 'female')\n",
            "(31, 'Marry Toeey', 'Four', 88, 'male')\n",
            "(32, 'Binn Rott', 'Seven', 90, 'female')\n",
            "(33, 'Kenn Rein', 'Six', 96, 'female')\n",
            "(34, 'Gain Toe', 'Seven', 69, 'male')\n",
            "(35, 'Rows Noump', 'Six', 88, 'female')\n"
          ]
        }
      ]
    },
    {
      "cell_type": "code",
      "source": [
        "r_set=my_conn.execute('''SELECT * FROM category''');\n",
        "for row in r_set:\n",
        "  print(row)"
      ],
      "metadata": {
        "colab": {
          "base_uri": "https://localhost:8080/"
        },
        "id": "Vzp7zNsqiNOd",
        "outputId": "40be6622-2dca-4737-d6c7-c10213756d02"
      },
      "execution_count": 22,
      "outputs": [
        {
          "output_type": "stream",
          "name": "stdout",
          "text": [
            "(1, 'Fruits')\n",
            "(2, 'Colors')\n",
            "(3, 'Games')\n",
            "(4, 'Vehicles')\n"
          ]
        }
      ]
    },
    {
      "cell_type": "code",
      "source": [
        "r_set=my_conn.execute('''SELECT * FROM subcategory''');\n",
        "for row in r_set:\n",
        "  print(row)"
      ],
      "metadata": {
        "colab": {
          "base_uri": "https://localhost:8080/"
        },
        "id": "wnPO2XU0iPXl",
        "outputId": "9b290329-4ba7-4d5e-927c-f11dc7a774c7"
      },
      "execution_count": 23,
      "outputs": [
        {
          "output_type": "stream",
          "name": "stdout",
          "text": [
            "(1, 'Mango')\n",
            "(1, 'Banana')\n",
            "(1, 'Orange')\n",
            "(1, 'Apple')\n",
            "(2, 'Red')\n",
            "(2, 'Blue')\n",
            "(2, 'Green')\n",
            "(2, 'Yellow')\n",
            "(3, 'Cricket')\n",
            "(3, 'Football')\n",
            "(3, 'Baseball')\n",
            "(3, 'Tennis')\n",
            "(4, 'Cars')\n",
            "(4, 'Trucks')\n",
            "(4, 'Bikes')\n",
            "(4, 'Train')\n"
          ]
        }
      ]
    },
    {
      "cell_type": "code",
      "source": [
        "# display all records of particular class only\n",
        "q=\"SELECT id, name, class, mark, sex FROM student WHERE class='Four'\"\n",
        "my_cursor=my_conn.execute(q)\n",
        "for row in my_cursor:\n",
        "  print(row)"
      ],
      "metadata": {
        "colab": {
          "base_uri": "https://localhost:8080/"
        },
        "id": "8troVEUfiSSV",
        "outputId": "1bee573f-3f2c-4361-c3c9-161ee3f8d697"
      },
      "execution_count": 24,
      "outputs": [
        {
          "output_type": "stream",
          "name": "stdout",
          "text": [
            "(1, 'John Deo', 'Four', 75, 'female')\n",
            "(4, 'Krish Star', 'Four', 60, 'female')\n",
            "(5, 'John Mike', 'Four', 60, 'female')\n",
            "(6, 'Alex John', 'Four', 55, 'male')\n",
            "(10, 'Big John', 'Four', 55, 'female')\n",
            "(15, 'Tade Row', 'Four', 88, 'male')\n",
            "(16, 'Gimmy', 'Four', 88, 'male')\n",
            "(21, 'Babby John', 'Four', 69, 'female')\n",
            "(31, 'Marry Toeey', 'Four', 88, 'male')\n"
          ]
        }
      ]
    },
    {
      "cell_type": "code",
      "source": [
        "my_cursor = my_conn.execute(\"select id, name, class, mark, sex from student where id = 8\")\n",
        "data_row = my_cursor.fetchone()\n",
        "\n",
        "print(data_row)"
      ],
      "metadata": {
        "colab": {
          "base_uri": "https://localhost:8080/"
        },
        "id": "NOIr1Jn9iS3l",
        "outputId": "4e4a0115-39fd-4251-8df3-4d7028987e59"
      },
      "execution_count": 25,
      "outputs": [
        {
          "output_type": "stream",
          "name": "stdout",
          "text": [
            "(8, 'Asruid', 'Five', 85, 'male')\n"
          ]
        }
      ]
    },
    {
      "cell_type": "code",
      "source": [
        "# select 10 records only\n",
        "q=\"SELECT id, name, class, mark, sex FROM student limit 0,10\"\n",
        "my_cursor=my_conn.execute(q)\n",
        "data_row=my_cursor.fetchall()\n",
        "print(type(data_row))\n",
        "print(\"No of records : {}\".format(len(data_row)))\n",
        "for row in data_row:\n",
        "  print(row)"
      ],
      "metadata": {
        "colab": {
          "base_uri": "https://localhost:8080/"
        },
        "id": "8kIsrQGEiUc2",
        "outputId": "c3a5d12f-f273-4411-fad2-5d9462780dcf"
      },
      "execution_count": 26,
      "outputs": [
        {
          "output_type": "stream",
          "name": "stdout",
          "text": [
            "<class 'list'>\n",
            "No of records : 10\n",
            "(1, 'John Deo', 'Four', 75, 'female')\n",
            "(2, 'Max Ruin', 'Three', 85, 'male')\n",
            "(3, 'Arnold', 'Three', 55, 'male')\n",
            "(4, 'Krish Star', 'Four', 60, 'female')\n",
            "(5, 'John Mike', 'Four', 60, 'female')\n",
            "(6, 'Alex John', 'Four', 55, 'male')\n",
            "(7, 'My John Rob', 'Five', 78, 'male')\n",
            "(8, 'Asruid', 'Five', 85, 'male')\n",
            "(9, 'Tes Qry', 'Six', 78, 'male')\n",
            "(10, 'Big John', 'Four', 55, 'female')\n"
          ]
        },
        {
          "output_type": "stream",
          "name": "stderr",
          "text": [
            "ERROR:sqlalchemy.pool.impl.NullPool:Exception during reset or similar\n",
            "Traceback (most recent call last):\n",
            "  File \"/usr/local/lib/python3.7/dist-packages/sqlalchemy/pool/base.py\", line 753, in _finalize_fairy\n",
            "    fairy._reset(pool)\n",
            "  File \"/usr/local/lib/python3.7/dist-packages/sqlalchemy/pool/base.py\", line 1004, in _reset\n",
            "    pool._dialect.do_rollback(self)\n",
            "  File \"/usr/local/lib/python3.7/dist-packages/sqlalchemy/engine/default.py\", line 683, in do_rollback\n",
            "    dbapi_connection.rollback()\n",
            "sqlite3.ProgrammingError: SQLite objects created in a thread can only be used in that same thread. The object was created in thread id 139644624701312 and this is thread id 139644193777408.\n",
            "ERROR:sqlalchemy.pool.impl.NullPool:Exception closing connection <sqlite3.Connection object at 0x7f01714502d0>\n",
            "Traceback (most recent call last):\n",
            "  File \"/usr/local/lib/python3.7/dist-packages/sqlalchemy/pool/base.py\", line 753, in _finalize_fairy\n",
            "    fairy._reset(pool)\n",
            "  File \"/usr/local/lib/python3.7/dist-packages/sqlalchemy/pool/base.py\", line 1004, in _reset\n",
            "    pool._dialect.do_rollback(self)\n",
            "  File \"/usr/local/lib/python3.7/dist-packages/sqlalchemy/engine/default.py\", line 683, in do_rollback\n",
            "    dbapi_connection.rollback()\n",
            "sqlite3.ProgrammingError: SQLite objects created in a thread can only be used in that same thread. The object was created in thread id 139644624701312 and this is thread id 139644193777408.\n",
            "\n",
            "During handling of the above exception, another exception occurred:\n",
            "\n",
            "Traceback (most recent call last):\n",
            "  File \"/usr/local/lib/python3.7/dist-packages/sqlalchemy/pool/base.py\", line 255, in _close_connection\n",
            "    self._dialect.do_terminate(connection)\n",
            "  File \"/usr/local/lib/python3.7/dist-packages/sqlalchemy/engine/default.py\", line 689, in do_terminate\n",
            "    self.do_close(dbapi_connection)\n",
            "  File \"/usr/local/lib/python3.7/dist-packages/sqlalchemy/engine/default.py\", line 692, in do_close\n",
            "    dbapi_connection.close()\n",
            "sqlite3.ProgrammingError: SQLite objects created in a thread can only be used in that same thread. The object was created in thread id 139644624701312 and this is thread id 139644193777408.\n"
          ]
        }
      ]
    },
    {
      "cell_type": "code",
      "source": [
        "# delete sample table student\n",
        "from sqlalchemy.exc import SQLAlchemyError\n",
        "try:\n",
        "  my_conn.execute('''DROP table student;''')\n",
        "  print(\"student table deleted\")\n",
        "except SQLAlchemyError as e:\n",
        "  error = str(e._dict_['orig'])\n",
        "  print(error)\n",
        "  #print(e)"
      ],
      "metadata": {
        "colab": {
          "base_uri": "https://localhost:8080/"
        },
        "id": "ZW7GX1teiWFO",
        "outputId": "26fa2181-4af4-42c9-95aa-413ce6789c35"
      },
      "execution_count": 27,
      "outputs": [
        {
          "output_type": "stream",
          "name": "stdout",
          "text": [
            "student table deleted\n"
          ]
        }
      ]
    },
    {
      "cell_type": "code",
      "source": [
        "# creating student table\n",
        "from sqlalchemy.exc import SQLAlchemyError\n",
        "try:\n",
        "  my_conn.execute('''\n",
        "    CREATE TABLE IF NOT EXISTS student(id integer primary key,\n",
        "                                       name text,\n",
        "                                       class text,\n",
        "                                       mark integer,\n",
        "                                       sex text\n",
        "                                       );''')\n",
        "  \n",
        "  print(\"Student Table created successfully\")\n",
        "except SQLAlchemyError as e:\n",
        "  error = str(e._dict_['orig'])\n",
        "  print(error)"
      ],
      "metadata": {
        "colab": {
          "base_uri": "https://localhost:8080/"
        },
        "id": "c2KWRyqGiYOG",
        "outputId": "aabe9ad1-639e-45c6-e5c2-adc44f71ddde"
      },
      "execution_count": 28,
      "outputs": [
        {
          "output_type": "stream",
          "name": "stdout",
          "text": [
            "Student Table created successfully\n"
          ]
        }
      ]
    },
    {
      "cell_type": "code",
      "source": [
        "# add records to student table\n",
        "r_set=my_conn.execute('''INSERT INTO `student`\n",
        "(`id`,`name`,`class`,`mark`,`sex`) VALUES\n",
        "(1, 'John Deo', 'Four', 75, 'female'),\n",
        "(2, 'Max Ruin', 'Three', 85, 'male'),\n",
        "(3, 'Arnold', 'Three', 55, 'male'),\n",
        "(4, 'Krish Star', 'Four', 60, 'female'),\n",
        "(5, 'John Mike', 'Four', 60, 'female'),\n",
        "(6, 'Alex John', 'Four', 55, 'male'),\n",
        "(7, 'My John Rob', 'Five', 78, 'male'),\n",
        "(8, 'Asruid', 'Five', 85, 'male'),\n",
        "(9, 'Tes Qry', 'Six', 78, 'male'),\n",
        "(10, 'Big John', 'Four', 55, 'female'),\n",
        "(11, 'Ronald', 'Six', 89, 'female'),\n",
        "(27, 'Big Nose', 'Three', 81, 'female'),\n",
        "(28, 'Rojj Base', 'Seven', 86, 'female'),\n",
        "(29, 'Tess Played', 'Seven', 55, 'male'),\n",
        "(30, 'Reppy Red', 'Six', 79, 'female'),\n",
        "(31, 'Marry Toeey', 'Four', 88, 'male'),\n",
        "(32, 'Binn Rott', 'Seven', 90, 'female'),\n",
        "(33, 'Kenn Rein', 'Six', 96, 'female'),\n",
        "(34, 'Gain Toe', 'Seven', 69, 'male'),\n",
        "(35, 'Rows Noump', 'Six', 88, 'female');''')"
      ],
      "metadata": {
        "id": "P3x1ObqgiaIf"
      },
      "execution_count": 29,
      "outputs": []
    },
    {
      "cell_type": "code",
      "source": [
        "my_conn = create_engine(\"sqlite:///my_db2.db\")\n",
        "conn = my_conn.connect()\n",
        "\n",
        "!ls"
      ],
      "metadata": {
        "colab": {
          "base_uri": "https://localhost:8080/"
        },
        "id": "Dep9gLveic7H",
        "outputId": "3e017d70-f883-4fd5-e838-114dbb6251bd"
      },
      "execution_count": 30,
      "outputs": [
        {
          "output_type": "stream",
          "name": "stdout",
          "text": [
            "my_db2.db  my_db.db  sample_data  student_insert.sql  student_tables.sql\n"
          ]
        }
      ]
    },
    {
      "cell_type": "code",
      "source": [
        "from sqlalchemy import create_engine\n",
        "my_conn = create_engine(\"sqlite:////content/my_db.db/\")\n",
        "\n",
        "# Show the list of tables\n",
        "r_set = my_conn.execute('''select name from sqlite_master where type = 'table' ''')\n",
        "for row in r_set:\n",
        "    print(row)"
      ],
      "metadata": {
        "colab": {
          "base_uri": "https://localhost:8080/"
        },
        "id": "j7nptEiUj5Lt",
        "outputId": "f7cf64ef-fd9a-4dea-d02e-4dbc02bbaa9e"
      },
      "execution_count": 36,
      "outputs": [
        {
          "output_type": "stream",
          "name": "stdout",
          "text": [
            "('category',)\n",
            "('subcategory',)\n",
            "('student',)\n"
          ]
        }
      ]
    },
    {
      "cell_type": "code",
      "source": [
        "# delete sample table student\n",
        "from sqlalchemy.exc import SQLAlchemyError\n",
        "try:\n",
        "  my_conn.execute('''DROP table student;''')\n",
        "  print(\"student table deleted\")\n",
        "except SQLAlchemyError as e:\n",
        "  error = str(e._dict_['orig'])\n",
        "  print(error)\n",
        "  #print(e)"
      ],
      "metadata": {
        "colab": {
          "base_uri": "https://localhost:8080/"
        },
        "id": "TD4T-DyPlqE9",
        "outputId": "da230d3f-b4e3-4132-ca41-d28b8f4f9afe"
      },
      "execution_count": 39,
      "outputs": [
        {
          "output_type": "stream",
          "name": "stdout",
          "text": [
            "student table deleted\n"
          ]
        }
      ]
    },
    {
      "cell_type": "code",
      "source": [
        "from sqlalchemy import create_engine\n",
        "my_conn = create_engine(\"sqlite:////content/my_db.db/\")\n",
        "\n",
        "# Show the list of tables\n",
        "r_set = my_conn.execute('''select name from sqlite_master where type = 'table' ''')\n",
        "for row in r_set:\n",
        "    print(row)"
      ],
      "metadata": {
        "colab": {
          "base_uri": "https://localhost:8080/"
        },
        "id": "f-yYLxBblr_P",
        "outputId": "92e09a6c-de48-45ab-ba95-409d5508c82f"
      },
      "execution_count": 40,
      "outputs": [
        {
          "output_type": "stream",
          "name": "stdout",
          "text": [
            "('category',)\n",
            "('subcategory',)\n"
          ]
        }
      ]
    },
    {
      "cell_type": "code",
      "source": [
        "# Open file and run script\n",
        "with open(\"student_tables.sql\", \"r\") as file:\n",
        "    query = file.read()\n",
        "    my_conn.execute(query)\n",
        "\n",
        "# Show the list of tables\n",
        "r_set = my_conn.execute(\"SELECT name FROM sqlite_master WHERE type='table';\")\n",
        "for row in r_set:\n",
        "    print(row)"
      ],
      "metadata": {
        "colab": {
          "base_uri": "https://localhost:8080/"
        },
        "id": "hFbZuXORlu_m",
        "outputId": "9375018a-624d-4d1f-b2ce-f11ddef51f6b"
      },
      "execution_count": 41,
      "outputs": [
        {
          "output_type": "stream",
          "name": "stdout",
          "text": [
            "('category',)\n",
            "('subcategory',)\n",
            "('student',)\n"
          ]
        }
      ]
    },
    {
      "cell_type": "code",
      "source": [
        "with open(\"student_insert.sql\", \"r\") as file:\n",
        "    query = file.read()\n",
        "    my_conn.execute(query)\n",
        "\n",
        "r_set=my_conn.execute('''SELECT * FROM student''');\n",
        "for row in r_set:\n",
        "  print(row)"
      ],
      "metadata": {
        "colab": {
          "base_uri": "https://localhost:8080/"
        },
        "id": "Aw3udvN0lyeY",
        "outputId": "bf5a2ca4-8c95-4a0f-fa6b-c72805c5bad4"
      },
      "execution_count": 42,
      "outputs": [
        {
          "output_type": "stream",
          "name": "stdout",
          "text": [
            "(1, 'John Deo', 'Four', 75, 'female')\n",
            "(2, 'Max Ruin', 'Three', 85, 'male')\n",
            "(3, 'Arnold', 'Three', 55, 'male')\n",
            "(4, 'Krish Star', 'Four', 60, 'female')\n",
            "(5, 'John Mike', 'Four', 60, 'female')\n",
            "(6, 'Alex John', 'Four', 55, 'male')\n",
            "(7, 'My John Rob', 'Five', 78, 'male')\n",
            "(8, 'Asruid', 'Five', 85, 'male')\n",
            "(9, 'Tes Qry', 'Six', 78, 'male')\n",
            "(10, 'Big John', 'Four', 55, 'female')\n",
            "(11, 'Ronald', 'Six', 89, 'female')\n",
            "(27, 'Big Nose', 'Three', 81, 'female')\n",
            "(28, 'Rojj Base', 'Seven', 86, 'female')\n",
            "(29, 'Tess Played', 'Seven', 55, 'male')\n",
            "(30, 'Reppy Red', 'Six', 79, 'female')\n",
            "(31, 'Marry Toeey', 'Four', 88, 'male')\n",
            "(32, 'Binn Rott', 'Seven', 90, 'female')\n",
            "(33, 'Kenn Rein', 'Six', 96, 'female')\n",
            "(34, 'Gain Toe', 'Seven', 69, 'male')\n",
            "(35, 'Rows Noump', 'Six', 88, 'female')\n"
          ]
        }
      ]
    },
    {
      "cell_type": "code",
      "source": [
        "from sqlalchemy.exc import SQLAlchemyError\n",
        "q=\"UPDATE student SET mark=mark+1\"\n",
        "try:\n",
        "  r_set=my_conn.execute(q)\n",
        "except SQLAlchemyError as e:\n",
        "  error=str(e.__dict__['orig'])\n",
        "  print(error)\n",
        "else:\n",
        "  print(\"No of records updated : \",r_set.rowcount)"
      ],
      "metadata": {
        "colab": {
          "base_uri": "https://localhost:8080/"
        },
        "id": "54j5mgNll0tm",
        "outputId": "6f27353c-169d-4a41-db74-a15873436a2d"
      },
      "execution_count": 43,
      "outputs": [
        {
          "output_type": "stream",
          "name": "stdout",
          "text": [
            "No of records updated :  20\n"
          ]
        }
      ]
    },
    {
      "cell_type": "code",
      "source": [
        "r_set=my_conn.execute('''SELECT * FROM student''');\n",
        "for row in r_set:\n",
        "  print(row)"
      ],
      "metadata": {
        "colab": {
          "base_uri": "https://localhost:8080/"
        },
        "id": "-Zx-5P8Jl222",
        "outputId": "0d4dd005-4714-4a35-a56f-52d248c35ee3"
      },
      "execution_count": 44,
      "outputs": [
        {
          "output_type": "stream",
          "name": "stdout",
          "text": [
            "(1, 'John Deo', 'Four', 76, 'female')\n",
            "(2, 'Max Ruin', 'Three', 86, 'male')\n",
            "(3, 'Arnold', 'Three', 56, 'male')\n",
            "(4, 'Krish Star', 'Four', 61, 'female')\n",
            "(5, 'John Mike', 'Four', 61, 'female')\n",
            "(6, 'Alex John', 'Four', 56, 'male')\n",
            "(7, 'My John Rob', 'Five', 79, 'male')\n",
            "(8, 'Asruid', 'Five', 86, 'male')\n",
            "(9, 'Tes Qry', 'Six', 79, 'male')\n",
            "(10, 'Big John', 'Four', 56, 'female')\n",
            "(11, 'Ronald', 'Six', 90, 'female')\n",
            "(27, 'Big Nose', 'Three', 82, 'female')\n",
            "(28, 'Rojj Base', 'Seven', 87, 'female')\n",
            "(29, 'Tess Played', 'Seven', 56, 'male')\n",
            "(30, 'Reppy Red', 'Six', 80, 'female')\n",
            "(31, 'Marry Toeey', 'Four', 89, 'male')\n",
            "(32, 'Binn Rott', 'Seven', 91, 'female')\n",
            "(33, 'Kenn Rein', 'Six', 97, 'female')\n",
            "(34, 'Gain Toe', 'Seven', 70, 'male')\n",
            "(35, 'Rows Noump', 'Six', 89, 'female')\n"
          ]
        }
      ]
    },
    {
      "cell_type": "code",
      "source": [
        "from sqlalchemy.exc import SQLAlchemyError\n",
        "q=\"UPDATE student SET mark=mark+1 WHERE id=7\"\n",
        "try:\n",
        "  r_set=my_conn.execute(q)\n",
        "except SQLAlchemyError as e:\n",
        "  error=str(e.__dict__['orig'])\n",
        "  print(error)\n",
        "else:\n",
        "  print(\"No of records updated : \",r_set.rowcount)"
      ],
      "metadata": {
        "colab": {
          "base_uri": "https://localhost:8080/"
        },
        "id": "utCNrDRcl5e-",
        "outputId": "932e102b-7e86-4c48-98c7-93ac081a1130"
      },
      "execution_count": 45,
      "outputs": [
        {
          "output_type": "stream",
          "name": "stdout",
          "text": [
            "No of records updated :  1\n"
          ]
        }
      ]
    },
    {
      "cell_type": "code",
      "source": [
        "r_set=my_conn.execute('''SELECT * FROM student''');\n",
        "for row in r_set:\n",
        "  print(row)"
      ],
      "metadata": {
        "colab": {
          "base_uri": "https://localhost:8080/"
        },
        "id": "NaXsutwWl8uO",
        "outputId": "efc629f9-3466-4185-dbe8-3689c6f258ad"
      },
      "execution_count": 46,
      "outputs": [
        {
          "output_type": "stream",
          "name": "stdout",
          "text": [
            "(1, 'John Deo', 'Four', 76, 'female')\n",
            "(2, 'Max Ruin', 'Three', 86, 'male')\n",
            "(3, 'Arnold', 'Three', 56, 'male')\n",
            "(4, 'Krish Star', 'Four', 61, 'female')\n",
            "(5, 'John Mike', 'Four', 61, 'female')\n",
            "(6, 'Alex John', 'Four', 56, 'male')\n",
            "(7, 'My John Rob', 'Five', 80, 'male')\n",
            "(8, 'Asruid', 'Five', 86, 'male')\n",
            "(9, 'Tes Qry', 'Six', 79, 'male')\n",
            "(10, 'Big John', 'Four', 56, 'female')\n",
            "(11, 'Ronald', 'Six', 90, 'female')\n",
            "(27, 'Big Nose', 'Three', 82, 'female')\n",
            "(28, 'Rojj Base', 'Seven', 87, 'female')\n",
            "(29, 'Tess Played', 'Seven', 56, 'male')\n",
            "(30, 'Reppy Red', 'Six', 80, 'female')\n",
            "(31, 'Marry Toeey', 'Four', 89, 'male')\n",
            "(32, 'Binn Rott', 'Seven', 91, 'female')\n",
            "(33, 'Kenn Rein', 'Six', 97, 'female')\n",
            "(34, 'Gain Toe', 'Seven', 70, 'male')\n",
            "(35, 'Rows Noump', 'Six', 89, 'female')\n"
          ]
        }
      ]
    },
    {
      "cell_type": "code",
      "source": [
        "from sqlalchemy.exc import SQLAlchemyError\n",
        "q=\"UPDATE student SET mark=mark+1 WHERE class='Four'\"\n",
        "try:\n",
        "  r_set=my_conn.execute(q)\n",
        "except SQLAlchemyError as e:\n",
        "  error=str(e.__dict__['orig'])\n",
        "  print(error)\n",
        "else:\n",
        "  print(\"No of records updated : \",r_set.rowcount)"
      ],
      "metadata": {
        "colab": {
          "base_uri": "https://localhost:8080/"
        },
        "id": "C0gaEXKDl_YW",
        "outputId": "4c6ccb05-ace1-4162-87ce-f1d2cd408434"
      },
      "execution_count": 47,
      "outputs": [
        {
          "output_type": "stream",
          "name": "stdout",
          "text": [
            "No of records updated :  6\n"
          ]
        }
      ]
    },
    {
      "cell_type": "code",
      "source": [
        "r_set=my_conn.execute('''SELECT * FROM student''');\n",
        "for row in r_set:\n",
        "  print(row)"
      ],
      "metadata": {
        "colab": {
          "base_uri": "https://localhost:8080/"
        },
        "id": "EwCxuUEBmByW",
        "outputId": "7d86312c-8484-40cc-af8e-1591e969b02b"
      },
      "execution_count": 48,
      "outputs": [
        {
          "output_type": "stream",
          "name": "stdout",
          "text": [
            "(1, 'John Deo', 'Four', 77, 'female')\n",
            "(2, 'Max Ruin', 'Three', 86, 'male')\n",
            "(3, 'Arnold', 'Three', 56, 'male')\n",
            "(4, 'Krish Star', 'Four', 62, 'female')\n",
            "(5, 'John Mike', 'Four', 62, 'female')\n",
            "(6, 'Alex John', 'Four', 57, 'male')\n",
            "(7, 'My John Rob', 'Five', 80, 'male')\n",
            "(8, 'Asruid', 'Five', 86, 'male')\n",
            "(9, 'Tes Qry', 'Six', 79, 'male')\n",
            "(10, 'Big John', 'Four', 57, 'female')\n",
            "(11, 'Ronald', 'Six', 90, 'female')\n",
            "(27, 'Big Nose', 'Three', 82, 'female')\n",
            "(28, 'Rojj Base', 'Seven', 87, 'female')\n",
            "(29, 'Tess Played', 'Seven', 56, 'male')\n",
            "(30, 'Reppy Red', 'Six', 80, 'female')\n",
            "(31, 'Marry Toeey', 'Four', 90, 'male')\n",
            "(32, 'Binn Rott', 'Seven', 91, 'female')\n",
            "(33, 'Kenn Rein', 'Six', 97, 'female')\n",
            "(34, 'Gain Toe', 'Seven', 70, 'male')\n",
            "(35, 'Rows Noump', 'Six', 89, 'female')\n"
          ]
        }
      ]
    },
    {
      "cell_type": "code",
      "source": [
        "from sqlalchemy.exc import SQLAlchemyError\n",
        "q=\"UPDATE student SET class='Four' WHERE class='Three'\"\n",
        "try:\n",
        "  r_set=my_conn.execute(q)\n",
        "except SQLAlchemyError as e:\n",
        "  error=str(e.__dict__['orig'])\n",
        "  print(error)\n",
        "else:\n",
        "  print(\"No of records updated : \",r_set.rowcount)"
      ],
      "metadata": {
        "colab": {
          "base_uri": "https://localhost:8080/"
        },
        "id": "DCEED0XKmEKu",
        "outputId": "ee45f137-d75f-4de3-9ca7-e55bbfac16db"
      },
      "execution_count": 49,
      "outputs": [
        {
          "output_type": "stream",
          "name": "stdout",
          "text": [
            "No of records updated :  3\n"
          ]
        }
      ]
    },
    {
      "cell_type": "code",
      "source": [
        "r_set=my_conn.execute('''SELECT * FROM student''');\n",
        "for row in r_set:\n",
        "  print(row)"
      ],
      "metadata": {
        "colab": {
          "base_uri": "https://localhost:8080/"
        },
        "id": "Nfhdg8UvmGne",
        "outputId": "93c30804-dde2-496f-bbce-60b7ded9c868"
      },
      "execution_count": 50,
      "outputs": [
        {
          "output_type": "stream",
          "name": "stdout",
          "text": [
            "(1, 'John Deo', 'Four', 77, 'female')\n",
            "(2, 'Max Ruin', 'Four', 86, 'male')\n",
            "(3, 'Arnold', 'Four', 56, 'male')\n",
            "(4, 'Krish Star', 'Four', 62, 'female')\n",
            "(5, 'John Mike', 'Four', 62, 'female')\n",
            "(6, 'Alex John', 'Four', 57, 'male')\n",
            "(7, 'My John Rob', 'Five', 80, 'male')\n",
            "(8, 'Asruid', 'Five', 86, 'male')\n",
            "(9, 'Tes Qry', 'Six', 79, 'male')\n",
            "(10, 'Big John', 'Four', 57, 'female')\n",
            "(11, 'Ronald', 'Six', 90, 'female')\n",
            "(27, 'Big Nose', 'Four', 82, 'female')\n",
            "(28, 'Rojj Base', 'Seven', 87, 'female')\n",
            "(29, 'Tess Played', 'Seven', 56, 'male')\n",
            "(30, 'Reppy Red', 'Six', 80, 'female')\n",
            "(31, 'Marry Toeey', 'Four', 90, 'male')\n",
            "(32, 'Binn Rott', 'Seven', 91, 'female')\n",
            "(33, 'Kenn Rein', 'Six', 97, 'female')\n",
            "(34, 'Gain Toe', 'Seven', 70, 'male')\n",
            "(35, 'Rows Noump', 'Six', 89, 'female')\n"
          ]
        }
      ]
    },
    {
      "cell_type": "code",
      "source": [
        "from sqlalchemy.exc import SQLAlchemyError\n",
        "id=input(\"Enter student id : \")\n",
        "my_data=(id,)\n",
        "q=\"UPDATE student SET mark=mark+5 WHERE id=?\"\n",
        "try:\n",
        "  r_set=my_conn.execute(q,my_data)\n",
        "except SQLAlchemyError as e:\n",
        "  error=str(e.__dict__['orig'])\n",
        "  print(error)\n",
        "else:\n",
        "  print(\"No of records updated : \",r_set.rowcount)"
      ],
      "metadata": {
        "colab": {
          "base_uri": "https://localhost:8080/"
        },
        "id": "jzA3TfbrmmTf",
        "outputId": "8cf048ca-7a27-44f8-ae4d-2fc608db0c41"
      },
      "execution_count": 53,
      "outputs": [
        {
          "output_type": "stream",
          "name": "stdout",
          "text": [
            "Enter student id : 11\n",
            "No of records updated :  1\n"
          ]
        }
      ]
    },
    {
      "cell_type": "code",
      "source": [
        "from sqlalchemy.exc import SQLAlchemyError\n",
        "my_data=('Six','Seven')\n",
        "q=\"UPDATE student SET class=? WHERE class=?\"\n",
        "try:\n",
        "  r_set=my_conn.execute(q,my_data)\n",
        "except SQLAlchemyError as e:\n",
        "  error=str(e.__dict__['orig'])\n",
        "  print(error)\n",
        "else:\n",
        "  print(\"No of records updated : \",r_set.rowcount)"
      ],
      "metadata": {
        "colab": {
          "base_uri": "https://localhost:8080/"
        },
        "id": "BJ5orbYemqdf",
        "outputId": "5925f885-c24e-44ba-db3b-83e6957b3f55"
      },
      "execution_count": 54,
      "outputs": [
        {
          "output_type": "stream",
          "name": "stdout",
          "text": [
            "No of records updated :  0\n"
          ]
        }
      ]
    },
    {
      "cell_type": "code",
      "source": [
        "r_set=my_conn.execute('''SELECT * FROM student''');\n",
        "for row in r_set:\n",
        "  print(row)"
      ],
      "metadata": {
        "colab": {
          "base_uri": "https://localhost:8080/"
        },
        "id": "b5hT5JeEmtIe",
        "outputId": "4177a49a-bccf-4283-8cdc-e75d81176de5"
      },
      "execution_count": 55,
      "outputs": [
        {
          "output_type": "stream",
          "name": "stdout",
          "text": [
            "(1, 'John Deo', 'Four', 77, 'female')\n",
            "(2, 'Max Ruin', 'Four', 86, 'male')\n",
            "(3, 'Arnold', 'Four', 56, 'male')\n",
            "(4, 'Krish Star', 'Four', 62, 'female')\n",
            "(5, 'John Mike', 'Four', 62, 'female')\n",
            "(6, 'Alex John', 'Four', 57, 'male')\n",
            "(7, 'My John Rob', 'Five', 80, 'male')\n",
            "(8, 'Asruid', 'Five', 86, 'male')\n",
            "(9, 'Tes Qry', 'Six', 79, 'male')\n",
            "(10, 'Big John', 'Four', 57, 'female')\n",
            "(11, 'Ronald', 'Six', 95, 'female')\n",
            "(27, 'Big Nose', 'Four', 82, 'female')\n",
            "(28, 'Rojj Base', 'Six', 87, 'female')\n",
            "(29, 'Tess Played', 'Six', 56, 'male')\n",
            "(30, 'Reppy Red', 'Six', 80, 'female')\n",
            "(31, 'Marry Toeey', 'Four', 90, 'male')\n",
            "(32, 'Binn Rott', 'Six', 91, 'female')\n",
            "(33, 'Kenn Rein', 'Six', 97, 'female')\n",
            "(34, 'Gain Toe', 'Six', 70, 'male')\n",
            "(35, 'Rows Noump', 'Six', 89, 'female')\n"
          ]
        }
      ]
    },
    {
      "cell_type": "code",
      "source": [
        "from sqlalchemy.exc import SQLAlchemyError\n",
        "q=\"SELECT DISTINCT(class)  FROM student\"\n",
        "try:\n",
        "  r_set=my_conn.execute(q)\n",
        "  data=r_set.fetchall()\n",
        "  for row in data:\n",
        "    print(row[0])\n",
        "except SQLAlchemyError as e:\n",
        "  error=str(e.__dict__['orig'])\n",
        "  print(error)\n",
        "else:\n",
        "  print(\"No of records displayed : \",len(data))"
      ],
      "metadata": {
        "colab": {
          "base_uri": "https://localhost:8080/"
        },
        "id": "FbyDyZygmvqG",
        "outputId": "3f5a4a6d-271c-4a68-964a-24b615431499"
      },
      "execution_count": 56,
      "outputs": [
        {
          "output_type": "stream",
          "name": "stdout",
          "text": [
            "Four\n",
            "Five\n",
            "Six\n",
            "No of records displayed :  3\n"
          ]
        }
      ]
    },
    {
      "cell_type": "code",
      "source": [
        "from sqlalchemy.exc import SQLAlchemyError\n",
        "q=\"SELECT DISTINCT(class)  FROM student WHERE mark>=80\"\n",
        "try:\n",
        "  r_set=my_conn.execute(q)\n",
        "  data=r_set.fetchall()\n",
        "  for row in data:\n",
        "    print(row[0])\n",
        "except SQLAlchemyError as e:\n",
        "  error=str(e.__dict__['orig'])\n",
        "  print(error)\n",
        "else:\n",
        "  print(\"No of records displayed : \",len(data))"
      ],
      "metadata": {
        "colab": {
          "base_uri": "https://localhost:8080/"
        },
        "id": "xr9mUySHmyeH",
        "outputId": "e296fc45-45d3-4adb-c533-a676ce9009e9"
      },
      "execution_count": 57,
      "outputs": [
        {
          "output_type": "stream",
          "name": "stdout",
          "text": [
            "Four\n",
            "Five\n",
            "Six\n",
            "No of records displayed :  3\n"
          ]
        }
      ]
    },
    {
      "cell_type": "code",
      "source": [
        "from sqlalchemy.exc import SQLAlchemyError\n",
        "q=\"SELECT DISTINCT(class)  FROM student order by class\"\n",
        "try:\n",
        "  r_set=my_conn.execute(q)\n",
        "  data=r_set.fetchall()\n",
        "  for row in data:\n",
        "    print(row[0])\n",
        "except SQLAlchemyError as e:\n",
        "  error=str(e.__dict__['orig'])\n",
        "  print(error)\n",
        "else:\n",
        "  print(\"No of records displayed : \",len(data))"
      ],
      "metadata": {
        "colab": {
          "base_uri": "https://localhost:8080/"
        },
        "id": "v9zcpnN5m1DH",
        "outputId": "3d2efb65-4f6f-47f8-9343-77572b634011"
      },
      "execution_count": 58,
      "outputs": [
        {
          "output_type": "stream",
          "name": "stdout",
          "text": [
            "Five\n",
            "Four\n",
            "Six\n",
            "No of records displayed :  3\n"
          ]
        }
      ]
    },
    {
      "cell_type": "code",
      "source": [
        "from sqlalchemy.exc import SQLAlchemyError\n",
        "q=\"SELECT DISTINCT class,sex  FROM student order by class\"\n",
        "try:\n",
        "  r_set=my_conn.execute(q)\n",
        "  data=r_set.fetchall()\n",
        "  for row in data:\n",
        "    print(row[0],row[1])\n",
        "except SQLAlchemyError as e:\n",
        "  error=str(e.__dict__['orig'])\n",
        "  print(error)\n",
        "else:\n",
        "  print(\"No of records displayed : \",len(data))"
      ],
      "metadata": {
        "colab": {
          "base_uri": "https://localhost:8080/"
        },
        "id": "ksOfQtqom3N-",
        "outputId": "d825f72c-54d7-4018-cb87-d0dd151723ea"
      },
      "execution_count": 59,
      "outputs": [
        {
          "output_type": "stream",
          "name": "stdout",
          "text": [
            "Five male\n",
            "Four female\n",
            "Four male\n",
            "Six male\n",
            "Six female\n",
            "No of records displayed :  5\n"
          ]
        }
      ]
    },
    {
      "cell_type": "code",
      "source": [
        "from sqlalchemy.exc import SQLAlchemyError\n",
        "q=\"DELETE FROM student WHERE id=5\"\n",
        "try:\n",
        "  r_set=my_conn.execute(q)\n",
        "except SQLAlchemyError as e:\n",
        "  error=str(e.__dict__['orig'])\n",
        "  print(error)\n",
        "else:\n",
        "  print(\"No of records deleted : \",r_set.rowcount)"
      ],
      "metadata": {
        "colab": {
          "base_uri": "https://localhost:8080/"
        },
        "id": "_qrhypDzm6Jm",
        "outputId": "ff7a7a02-a8cb-42ff-8462-da49be943967"
      },
      "execution_count": 60,
      "outputs": [
        {
          "output_type": "stream",
          "name": "stdout",
          "text": [
            "No of records deleted :  1\n"
          ]
        }
      ]
    },
    {
      "cell_type": "code",
      "source": [
        "from sqlalchemy.exc import SQLAlchemyError\n",
        "q=\"DELETE FROM student WHERE class='Four'\"\n",
        "try:\n",
        "  r_set=my_conn.execute(q)\n",
        "except SQLAlchemyError as e:\n",
        "  error=str(e.__dict__['orig'])\n",
        "  print(error)\n",
        "else:\n",
        "  print(\"No of records deleted : \",r_set.rowcount)"
      ],
      "metadata": {
        "colab": {
          "base_uri": "https://localhost:8080/"
        },
        "id": "w2FONE5onJRu",
        "outputId": "a8932892-61cf-4ceb-d57c-d4f9b5bc76fa"
      },
      "execution_count": 61,
      "outputs": [
        {
          "output_type": "stream",
          "name": "stdout",
          "text": [
            "No of records deleted :  8\n"
          ]
        }
      ]
    },
    {
      "cell_type": "code",
      "source": [
        "from sqlalchemy.exc import SQLAlchemyError\n",
        "my_data=(\"Five\",)\n",
        "q=\"DELETE FROM student WHERE class=?\"\n",
        "try:\n",
        "  r_set=my_conn.execute(q,my_data)\n",
        "except SQLAlchemyError as e:\n",
        "  error=str(e.__dict__['orig'])\n",
        "  print(error)\n",
        "else:\n",
        "  print(\"No of records deleted : \",r_set.rowcount)"
      ],
      "metadata": {
        "colab": {
          "base_uri": "https://localhost:8080/"
        },
        "id": "i9EWm6cDnLjO",
        "outputId": "3e736776-8a90-473f-d789-d65d38934b14"
      },
      "execution_count": 62,
      "outputs": [
        {
          "output_type": "stream",
          "name": "stdout",
          "text": [
            "No of records deleted :  2\n"
          ]
        }
      ]
    },
    {
      "cell_type": "code",
      "source": [
        "from sqlalchemy.exc import SQLAlchemyError\n",
        "my_data=(\"Six\",\"Seven\")\n",
        "q=\"DELETE FROM student WHERE class=? OR class=? \"\n",
        "try:\n",
        "  r_set=my_conn.execute(q,my_data)\n",
        "except SQLAlchemyError as e:\n",
        "  error=str(e.__dict__['orig'])\n",
        "  print(error)\n",
        "else:\n",
        "  print(\"No of records deleted : \",r_set.rowcount)"
      ],
      "metadata": {
        "colab": {
          "base_uri": "https://localhost:8080/"
        },
        "id": "ps7QK-YwnNj-",
        "outputId": "d954cbb5-ca75-4640-cc48-4863a961597e"
      },
      "execution_count": 63,
      "outputs": [
        {
          "output_type": "stream",
          "name": "stdout",
          "text": [
            "No of records deleted :  9\n"
          ]
        }
      ]
    },
    {
      "cell_type": "code",
      "source": [
        "from sqlalchemy.exc import SQLAlchemyError\n",
        "q=\"DELETE FROM student\"\n",
        "try:\n",
        "  r_set=my_conn.execute(q)\n",
        "except SQLAlchemyError as e:\n",
        "  error=str(e.__dict__['orig'])\n",
        "  print(error)\n",
        "else:\n",
        "  print(\"No of records deleted : \",r_set.rowcount)"
      ],
      "metadata": {
        "colab": {
          "base_uri": "https://localhost:8080/"
        },
        "id": "KLuE_IzanQLz",
        "outputId": "da782563-969a-4892-ae40-8a93a7371e83"
      },
      "execution_count": 64,
      "outputs": [
        {
          "output_type": "stream",
          "name": "stdout",
          "text": [
            "No of records deleted :  0\n"
          ]
        }
      ]
    }
  ],
  "metadata": {
    "colab": {
      "collapsed_sections": [],
      "name": "Colaboratory에 오신 것을 환영합니다",
      "provenance": [],
      "include_colab_link": true
    },
    "kernelspec": {
      "display_name": "Python 3",
      "name": "python3"
    }
  },
  "nbformat": 4,
  "nbformat_minor": 0
}